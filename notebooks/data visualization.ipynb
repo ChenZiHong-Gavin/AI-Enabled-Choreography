{
 "cells": [
  {
   "cell_type": "code",
   "outputs": [],
   "source": [
    "from functions.load_data import *\n",
    "from functions.plotting import animate_stick\n",
    "import pyvista as pv\n",
    "pv.set_jupyter_backend('trame')"
   ],
   "metadata": {
    "collapsed": false,
    "ExecuteTime": {
     "end_time": "2024-03-21T03:06:23.648087Z",
     "start_time": "2024-03-21T03:06:22.819347Z"
    }
   },
   "id": "6b64a1b8974ff0b1",
   "execution_count": 2
  },
  {
   "cell_type": "code",
   "execution_count": 3,
   "id": "initial_id",
   "metadata": {
    "collapsed": true,
    "ExecuteTime": {
     "end_time": "2024-03-21T03:06:38.631678Z",
     "start_time": "2024-03-21T03:06:32.045166Z"
    }
   },
   "outputs": [
    {
     "name": "stdout",
     "output_type": "stream",
     "text": [
      "Original numpy dataset contains 38,309 timesteps of 53 joints with 3 dimensions each.\n",
      "loc_min: -1.8967371874141707 loc_max: 1.5558704656286815\n",
      "vel_min: -45.57506836403084 vel_max: 33.951220235113276\n",
      "loc_min: -0.4843721412027978 loc_max: 0.9283637015363149\n",
      "vel_min: -45.57506836403084 vel_max: 33.951220235113276\n",
      "Seeding with frame 0\n",
      "[[[-0.38773259 -0.0288093   0.03612741]\n",
      "  [-0.33834185 -0.18721885  0.04133357]\n",
      "  [-0.31978013 -0.19094758 -0.07204046]\n",
      "  ...\n",
      "  [-0.4574029  -0.24783214 -0.07250286]\n",
      "  [-0.27387647 -0.3043228  -0.09858788]\n",
      "  [-0.30346665 -0.28685643  0.04165096]]\n",
      "\n",
      " [[-0.3969449  -0.03415808  0.0376016 ]\n",
      "  [-0.33925403 -0.19041847  0.03968402]\n",
      "  [-0.32060699 -0.19089635 -0.0729241 ]\n",
      "  ...\n",
      "  [-0.45667333 -0.25296909 -0.07553994]\n",
      "  [-0.2660152  -0.30013029 -0.10094972]\n",
      "  [-0.29820253 -0.28743478  0.0387202 ]]\n",
      "\n",
      " [[-0.40685949 -0.03911497  0.03939015]\n",
      "  [-0.34114064 -0.19338324  0.03809435]\n",
      "  [-0.32258524 -0.19060577 -0.07366156]\n",
      "  ...\n",
      "  [-0.45574316 -0.25765079 -0.07934889]\n",
      "  [-0.25946306 -0.29506892 -0.1029239 ]\n",
      "  [-0.29462    -0.28762778  0.03621873]]\n",
      "\n",
      " ...\n",
      "\n",
      " [[-0.46694283 -0.05995151  0.05204772]\n",
      "  [-0.38490981 -0.20596416  0.03962856]\n",
      "  [-0.35817059 -0.18511803 -0.07088964]\n",
      "  ...\n",
      "  [-0.48806366 -0.26238807 -0.09065272]\n",
      "  [-0.28243033 -0.27661906 -0.1079841 ]\n",
      "  [-0.33157795 -0.29591452  0.02907405]]\n",
      "\n",
      " [[-0.47503939 -0.06188784  0.05486264]\n",
      "  [-0.39453742 -0.20698326  0.03978135]\n",
      "  [-0.36538145 -0.18519797 -0.07022349]\n",
      "  ...\n",
      "  [-0.50013743 -0.26169349 -0.08986391]\n",
      "  [-0.29396299 -0.27869407 -0.1096803 ]\n",
      "  [-0.34326434 -0.29816029  0.02821433]]\n",
      "\n",
      " [[-0.48265986 -0.0632463   0.05675025]\n",
      "  [-0.40403677 -0.20913081  0.03942707]\n",
      "  [-0.37412013 -0.18733926 -0.06991682]\n",
      "  ...\n",
      "  [-0.51083328 -0.26312298 -0.09032697]\n",
      "  [-0.30720901 -0.28310576 -0.11149062]\n",
      "  [-0.35503833 -0.301434    0.02716883]]]\n"
     ]
    },
    {
     "data": {
      "text/plain": "Widget(value='<iframe src=\"http://localhost:56949/index.html?ui=P_0x2119f745550_0&reconnect=auto\" class=\"pyvis…",
      "application/vnd.jupyter.widget-view+json": {
       "version_major": 2,
       "version_minor": 0,
       "model_id": "826473c6a6e4410f9bb850cde8c041cf"
      }
     },
     "metadata": {},
     "output_type": "display_data"
    }
   ],
   "source": [
    "    ds_all, ds_all_centered, datasets, datasets_centered, ds_counts = load_data(pattern=\"../data/mariel_*.npy\")\n",
    "    seq_len = 10\n",
    "    index_start = 0\n",
    "    # index_start = np.random.randint(0,len(ds_all_centered)-seq_len)\n",
    "    print(\"Seeding with frame {}\".format(index_start))\n",
    "    xtest = ds_all_centered[index_start:index_start + seq_len, :, :3]\n",
    "    print(xtest)\n",
    "\n",
    "    animate_stick(xtest, figsize=(10, 8), cmap='inferno', cloud=False)"
   ]
  },
  {
   "cell_type": "code",
   "outputs": [],
   "source": [],
   "metadata": {
    "collapsed": false
   },
   "id": "cfa954e712616f7"
  }
 ],
 "metadata": {
  "kernelspec": {
   "display_name": "Python 3",
   "language": "python",
   "name": "python3"
  },
  "language_info": {
   "codemirror_mode": {
    "name": "ipython",
    "version": 2
   },
   "file_extension": ".py",
   "mimetype": "text/x-python",
   "name": "python",
   "nbconvert_exporter": "python",
   "pygments_lexer": "ipython2",
   "version": "2.7.6"
  }
 },
 "nbformat": 4,
 "nbformat_minor": 5
}
